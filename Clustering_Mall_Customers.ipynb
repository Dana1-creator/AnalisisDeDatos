{
 "cells": [
  {
   "cell_type": "markdown",
   "id": "6e3217dc",
   "metadata": {},
   "source": [
    "# Análisis de Clustering: K-means y Jerárquico\n",
    "\n",
    "Este notebook implementa dos modelos de clustering (agrupamiento) sobre el dataset *Mall Customer Segmentation*: **K-means** y **clustering jerárquico**. Se incluyen análisis exploratorio, entrenamiento, evaluación y visualización de resultados."
   ]
  },
  {
   "cell_type": "code",
   "execution_count": null,
   "id": "f1c725e7",
   "metadata": {},
   "outputs": [],
   "source": [
    "\n",
    "import pandas as pd\n",
    "import numpy as np\n",
    "import matplotlib.pyplot as plt\n",
    "import seaborn as sns\n",
    "from sklearn.preprocessing import StandardScaler\n",
    "from sklearn.cluster import KMeans\n",
    "from sklearn.metrics import silhouette_score, calinski_harabasz_score, davies_bouldin_score\n",
    "from scipy.cluster.hierarchy import dendrogram, linkage, fcluster\n"
   ]
  },
  {
   "cell_type": "code",
   "execution_count": null,
   "id": "1b8b0510",
   "metadata": {},
   "outputs": [],
   "source": [
    "\n",
    "# Cargar el dataset\n",
    "df = pd.read_csv(\"Mall_Customers.csv\")\n",
    "df.head()\n"
   ]
  },
  {
   "cell_type": "code",
   "execution_count": null,
   "id": "823594f9",
   "metadata": {},
   "outputs": [],
   "source": [
    "\n",
    "# Información básica\n",
    "df.info()\n"
   ]
  },
  {
   "cell_type": "code",
   "execution_count": null,
   "id": "a95a7a11",
   "metadata": {},
   "outputs": [],
   "source": [
    "\n",
    "# Eliminar columnas irrelevantes y escalar datos\n",
    "df_clean = df.drop(columns=['CustomerID', 'Gender'])\n",
    "scaler = StandardScaler()\n",
    "df_scaled = scaler.fit_transform(df_clean)\n"
   ]
  },
  {
   "cell_type": "markdown",
   "id": "12789277",
   "metadata": {},
   "source": [
    "## Modelo 1: K-means Clustering"
   ]
  },
  {
   "cell_type": "code",
   "execution_count": null,
   "id": "b1f717f1",
   "metadata": {},
   "outputs": [],
   "source": [
    "\n",
    "kmeans = KMeans(n_clusters=5, random_state=42)\n",
    "clusters_kmeans = kmeans.fit_predict(df_scaled)\n",
    "df['Cluster_KMeans'] = clusters_kmeans\n"
   ]
  },
  {
   "cell_type": "code",
   "execution_count": null,
   "id": "6b3e355b",
   "metadata": {},
   "outputs": [],
   "source": [
    "\n",
    "# Evaluación K-means\n",
    "print(\"Silhouette Score:\", silhouette_score(df_scaled, clusters_kmeans))\n",
    "print(\"Calinski-Harabasz Index:\", calinski_harabasz_score(df_scaled, clusters_kmeans))\n",
    "print(\"Davies-Bouldin Index:\", davies_bouldin_score(df_scaled, clusters_kmeans))\n"
   ]
  },
  {
   "cell_type": "code",
   "execution_count": null,
   "id": "f29290cf",
   "metadata": {},
   "outputs": [],
   "source": [
    "\n",
    "# Visualización K-means\n",
    "plt.figure(figsize=(8, 6))\n",
    "sns.scatterplot(x='Annual Income (k$)', y='Spending Score (1-100)', hue='Cluster_KMeans', data=df, palette='viridis')\n",
    "plt.title(\"K-means Clustering\")\n",
    "plt.show()\n"
   ]
  },
  {
   "cell_type": "markdown",
   "id": "7d4a88e6",
   "metadata": {},
   "source": [
    "## Modelo 2: Clustering Jerárquico"
   ]
  },
  {
   "cell_type": "code",
   "execution_count": null,
   "id": "59ac83b3",
   "metadata": {},
   "outputs": [],
   "source": [
    "\n",
    "linked = linkage(df_scaled, method='ward')\n",
    "\n",
    "plt.figure(figsize=(12, 6))\n",
    "dendrogram(linked, orientation='top', distance_sort='descending', show_leaf_counts=False)\n",
    "plt.title(\"Dendrograma\")\n",
    "plt.xlabel(\"Clientes\")\n",
    "plt.ylabel(\"Distancia Euclidiana\")\n",
    "plt.show()\n"
   ]
  },
  {
   "cell_type": "code",
   "execution_count": null,
   "id": "c200b5bf",
   "metadata": {},
   "outputs": [],
   "source": [
    "\n",
    "# Crear etiquetas de cluster\n",
    "cluster_labels_hc = fcluster(linked, 5, criterion='maxclust')\n",
    "df['Cluster_HC'] = cluster_labels_hc\n"
   ]
  },
  {
   "cell_type": "code",
   "execution_count": null,
   "id": "9071df0d",
   "metadata": {},
   "outputs": [],
   "source": [
    "\n",
    "# Evaluación Clustering Jerárquico\n",
    "print(\"Silhouette Score (HC):\", silhouette_score(df_scaled, cluster_labels_hc))\n",
    "print(\"Calinski-Harabasz Index (HC):\", calinski_harabasz_score(df_scaled, cluster_labels_hc))\n",
    "print(\"Davies-Bouldin Index (HC):\", davies_bouldin_score(df_scaled, cluster_labels_hc))\n"
   ]
  },
  {
   "cell_type": "code",
   "execution_count": null,
   "id": "c794879f",
   "metadata": {},
   "outputs": [],
   "source": [
    "\n",
    "# Visualización Clustering Jerárquico\n",
    "plt.figure(figsize=(8, 6))\n",
    "sns.scatterplot(x='Annual Income (k$)', y='Spending Score (1-100)', hue='Cluster_HC', data=df, palette='Set2')\n",
    "plt.title(\"Clustering Jerárquico\")\n",
    "plt.show()\n"
   ]
  }
 ],
 "metadata": {},
 "nbformat": 4,
 "nbformat_minor": 5
}
